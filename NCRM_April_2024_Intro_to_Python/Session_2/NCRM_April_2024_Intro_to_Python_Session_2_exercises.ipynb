{
 "cells": [
  {
   "cell_type": "markdown",
   "id": "a4133625",
   "metadata": {},
   "source": [
    "## Exercise 1\n",
    "In the code box below, use Python as a calculator to solve the following:\n",
    "\n",
    "**Q1.1:** 50 + 600\n",
    "\n",
    "**Q1.2:** 6 + 2\n",
    "\n",
    "**Q1.3:** 6/2\n",
    "\n",
    "**Q1.4:** 6x2\n",
    "\n",
    "**Q1.5:** 4^8\n",
    "\n",
    "**Q1.5** The result of multiplying your answer for Q1.1 with your answer for Q1.2."
   ]
  },
  {
   "cell_type": "code",
   "execution_count": 2,
   "id": "b345b9e2",
   "metadata": {},
   "outputs": [
    {
     "name": "stdout",
     "output_type": "stream",
     "text": [
      "16\n",
      "3.5\n"
     ]
    }
   ],
   "source": [
    "print(8*2)\n",
    "print(7/2)\n"
   ]
  },
  {
   "cell_type": "markdown",
   "id": "dc2ba93a",
   "metadata": {},
   "source": [
    "## Exercise 2\n",
    "In the code box below, use the print() statement to print the following to the screen:\n",
    "    \n",
    "**Q2.1:** Create an integer variable.\n",
    "    \n",
    "**Q2.2:** Create a float variable.\n",
    "    \n",
    "**Q2.3:** Create a string variable.\n",
    "    \n",
    "**Q2.4:** Create a second string variable.\n",
    "\n",
    "**Q2.5:** Create a new variable that is the result of using a arithmatic operator on your integer and float variables.\n",
    "\n",
    "**Q2.6:** Create a new variable that combines your two string variables.\n",
    "\n",
    "**Q2.7:** Leave a comment next to your answers for Q2.5 and Q2.6 to remind yourself what they are.\n",
    "    "
   ]
  },
  {
   "cell_type": "code",
   "execution_count": null,
   "id": "3cf68812",
   "metadata": {},
   "outputs": [],
   "source": []
  },
  {
   "cell_type": "markdown",
   "id": "2c116fa3",
   "metadata": {},
   "source": [
    "## Exercise 3\n",
    "\n",
    "In the code box below, use the methods we just discussed to do the following manipulations of strings and then use the print() statement to print the results to the screen:\n",
    "\n",
    "**Q3.1:** Create a string variable of your name.\n",
    "\n",
    "**Q3.2:** Use a method to convert your name string to all uppercase characters.\n",
    "\n",
    "**Q3.3:** Use a method to convert your name string to all lowercase characters.\n",
    "\n",
    "**Q3.4:** Use a method to capitalise the first letter of your name sting.\n",
    "\n",
    "**Q3.4** Use a method to replace the animal name in the string with one of your choosing:"
   ]
  },
  {
   "cell_type": "code",
   "execution_count": 1,
   "id": "3b151828",
   "metadata": {},
   "outputs": [],
   "source": [
    "animal_city_string = \"Dogs are the preferred animal in Lisbon\""
   ]
  },
  {
   "cell_type": "markdown",
   "id": "2702e711",
   "metadata": {},
   "source": [
    "**Q3.5:** Convert the animal_city_string variable into a list where each element corresponds to one word in the string."
   ]
  },
  {
   "cell_type": "code",
   "execution_count": null,
   "id": "ef34014c",
   "metadata": {},
   "outputs": [],
   "source": []
  },
  {
   "cell_type": "markdown",
   "id": "6eaaf2a0",
   "metadata": {},
   "source": [
    "**Q3.6:** Convert your animal_city_string variable that is in list form back into a single string, but this time separated by a character of your choosing."
   ]
  },
  {
   "cell_type": "code",
   "execution_count": null,
   "id": "591f9cdf",
   "metadata": {},
   "outputs": [],
   "source": []
  },
  {
   "cell_type": "markdown",
   "id": "2bbde3ea",
   "metadata": {},
   "source": [
    "**Q3.7:** USe different methods to clean the string variables below:"
   ]
  },
  {
   "cell_type": "code",
   "execution_count": 2,
   "id": "b423266f",
   "metadata": {},
   "outputs": [],
   "source": [
    "string_1 = \"This is a test string    \"\n",
    "string_2 = \"    This is another test string\"\n",
    "string_3 = \"    This is yet another test string   \"\n",
    "string_4 = \"This is a test string that needs to be on multiple lines. Create a new variable where this string is on multiple lines. Each line should contain one sentence.\""
   ]
  },
  {
   "cell_type": "markdown",
   "id": "6ba6f475",
   "metadata": {},
   "source": [
    "## Exercise 4\n",
    "\n",
    "In the code box below...\n",
    "\n",
    "**Q4.1:** Create two integeger variables with different values.\n",
    "**Q4.2:** Use these two interger variables to make sure you understand how the comparison operators work by printing results to the screen. Make sure you fully understand how the following work and the differences between them:\n",
    "\n",
    "> Greater than: >\n",
    "\n",
    "> Greater than or equal to: >=\n",
    "\n",
    "> Lesser than: <\n",
    "\n",
    "> Lesser than or equal to: <=\n",
    "\n",
    "> Equal to: ==\n",
    "\n",
    "**Q4.3:** Run the code cell below:"
   ]
  },
  {
   "cell_type": "code",
   "execution_count": 3,
   "id": "a7392471",
   "metadata": {},
   "outputs": [],
   "source": [
    "string_variable_1 = \"My name is \"\n",
    "string_variable_3 = \", and I am a first year student at the University of Exeter\""
   ]
  },
  {
   "cell_type": "markdown",
   "id": "590fce4d",
   "metadata": {},
   "source": [
    "**Q4.4:** Create a new variable called string_variable_2 that contains your name in string form."
   ]
  },
  {
   "cell_type": "code",
   "execution_count": null,
   "id": "00d4385b",
   "metadata": {},
   "outputs": [],
   "source": []
  },
  {
   "cell_type": "markdown",
   "id": "d6342843",
   "metadata": {},
   "source": [
    "**Q4.5:** Using the methods above, combine these two strings in a way that makes grammatical sense and assign this new string to a new variable name of string_variable_4. "
   ]
  },
  {
   "cell_type": "code",
   "execution_count": null,
   "id": "cbda7640",
   "metadata": {},
   "outputs": [],
   "source": []
  },
  {
   "cell_type": "markdown",
   "id": "64f24879",
   "metadata": {},
   "source": [
    "**Q4.6:** Write a conditional that prints the words \"Condition met\" to the screen if the length of string_variable_2 is the same as the number of letters in your name."
   ]
  },
  {
   "cell_type": "code",
   "execution_count": null,
   "id": "2c5a2dbb",
   "metadata": {},
   "outputs": [],
   "source": []
  },
  {
   "cell_type": "markdown",
   "id": "b9b54b37",
   "metadata": {},
   "source": [
    "**Q4.7:** Write a conditional that prints the words \"All conditions met\" to the screen if the following conditoons are met:\n",
    "\n",
    "1. If the length of string_variable_2 is greater than 1\n",
    "\n",
    "2. The legnth of string_variable_4 is less than 500\n",
    "\n",
    "3. If the my_string_variable_1 is not an interger"
   ]
  },
  {
   "cell_type": "code",
   "execution_count": null,
   "id": "5197b6ec",
   "metadata": {},
   "outputs": [],
   "source": [
    "==\n",
    "\n",
    "!="
   ]
  }
 ],
 "metadata": {
  "kernelspec": {
   "display_name": "Python 3 (ipykernel)",
   "language": "python",
   "name": "python3"
  },
  "language_info": {
   "codemirror_mode": {
    "name": "ipython",
    "version": 3
   },
   "file_extension": ".py",
   "mimetype": "text/x-python",
   "name": "python",
   "nbconvert_exporter": "python",
   "pygments_lexer": "ipython3",
   "version": "3.10.9"
  }
 },
 "nbformat": 4,
 "nbformat_minor": 5
}
