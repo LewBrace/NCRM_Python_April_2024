{
 "cells": [
  {
   "cell_type": "markdown",
   "id": "3f0eb431",
   "metadata": {},
   "source": [
    "## Exercise 1\n",
    "\n",
    "In the code box below:\n",
    "\n",
    "**Q1.1:** Import the datetime module and get the current date and time acocording to your computer."
   ]
  },
  {
   "cell_type": "code",
   "execution_count": null,
   "id": "8e7c8cb8",
   "metadata": {},
   "outputs": [],
   "source": []
  },
  {
   "cell_type": "markdown",
   "id": "a56c1f45",
   "metadata": {},
   "source": [
    "In the code box below:\n",
    "\n",
    "**Q1.2:** Import the in-built **random** module.\n",
    "\n",
    "**Q1.3:** Create a list of integers ranging 1-100.\n",
    "\n",
    "**Q1.4:** Using Google and what you have learned thus far on the course, write a piece of code that prints each of the elements from your list of integer to the screen only once, and in a random order."
   ]
  },
  {
   "cell_type": "code",
   "execution_count": 8,
   "id": "136cd977",
   "metadata": {},
   "outputs": [
    {
     "name": "stdout",
     "output_type": "stream",
     "text": [
      "30\n",
      "87\n",
      "19\n",
      "39\n",
      "54\n",
      "81\n",
      "4\n",
      "42\n",
      "96\n",
      "29\n",
      "41\n",
      "34\n",
      "7\n",
      "56\n",
      "18\n",
      "14\n",
      "40\n",
      "8\n",
      "3\n",
      "66\n",
      "5\n",
      "13\n",
      "70\n",
      "11\n",
      "45\n",
      "31\n",
      "82\n",
      "27\n",
      "1\n",
      "79\n",
      "77\n",
      "26\n",
      "99\n",
      "23\n",
      "95\n",
      "84\n",
      "57\n",
      "43\n",
      "85\n",
      "20\n",
      "98\n",
      "97\n",
      "2\n",
      "74\n",
      "17\n",
      "58\n",
      "65\n",
      "10\n",
      "24\n",
      "63\n"
     ]
    }
   ],
   "source": [
    "import random\n",
    "int_list = []\n",
    "for i in range(1, 101):\n",
    "    int_list.append(i)\n",
    "\n",
    "\n",
    "for j in int_list:\n",
    "    integer = random.choice(int_list)\n",
    "    print(integer)\n",
    "    int_list.remove(integer)"
   ]
  },
  {
   "cell_type": "markdown",
   "id": "01ede44a",
   "metadata": {},
   "source": [
    "## Exercise 2\n",
    "\n",
    "In the code box below:\n",
    "\n",
    "**Q2.1:** Using Google and what you have learned so far on the course, build a Python function that takes a list of numbers as input and returns the largest number in the list."
   ]
  },
  {
   "cell_type": "code",
   "execution_count": null,
   "id": "76b520de",
   "metadata": {},
   "outputs": [],
   "source": []
  },
  {
   "cell_type": "markdown",
   "id": "45ff1418",
   "metadata": {},
   "source": [
    "**Q2.2:** In the code box below, write a function that returns the sum of the following list:"
   ]
  },
  {
   "cell_type": "code",
   "execution_count": null,
   "id": "00a6c267",
   "metadata": {},
   "outputs": [],
   "source": [
    "number_list = [6, 120, 8, 99, 72, 63, 1, 25]"
   ]
  },
  {
   "cell_type": "markdown",
   "id": "8d487f61",
   "metadata": {},
   "source": [
    "**Q2.3:** Copy the code for your function in the previous question and paste it into the code box below. Then add an extra line into the code that multiples the summed value by 3."
   ]
  },
  {
   "cell_type": "code",
   "execution_count": null,
   "id": "8a0a521e",
   "metadata": {},
   "outputs": [],
   "source": []
  },
  {
   "cell_type": "markdown",
   "id": "60e2cd4e",
   "metadata": {},
   "source": [
    "**Q2.4:** Build a function that takes two string variables, combines them together, and returns the length of the combined string."
   ]
  },
  {
   "cell_type": "code",
   "execution_count": null,
   "id": "fd7f1e59",
   "metadata": {},
   "outputs": [],
   "source": []
  },
  {
   "cell_type": "markdown",
   "id": "07baab82",
   "metadata": {},
   "source": [
    "**2.5:** Build a function that takes your name in string format as input and combines it with the following string to produce a complete sentence."
   ]
  },
  {
   "cell_type": "code",
   "execution_count": 5,
   "id": "bfffe99b",
   "metadata": {},
   "outputs": [],
   "source": [
    "function_string = \"is learning Python really easily.\""
   ]
  },
  {
   "cell_type": "markdown",
   "id": "56c4d4f7",
   "metadata": {},
   "source": [
    "## Exercise 3\n",
    "\n",
    "**Q3.1:** Create a text file (.txt) with 4 lines of text in it. The lines of text can say whatever you want. Save the file to a location on your machine that you will remember.\n",
    "\n",
    "**Q3.2:** Load in the text file you just created for reading.\n",
    "\n",
    "**Q3.2:** Using a for loop, read in and print each line of text to the screen in turn."
   ]
  },
  {
   "cell_type": "code",
   "execution_count": null,
   "id": "c9aa9abf",
   "metadata": {},
   "outputs": [],
   "source": []
  },
  {
   "cell_type": "markdown",
   "id": "4ca2716b",
   "metadata": {},
   "source": [
    "**Q3.3:** Use an in-built method to read the lines from your file and print them to the screen."
   ]
  },
  {
   "cell_type": "code",
   "execution_count": null,
   "id": "1963ae3c",
   "metadata": {},
   "outputs": [],
   "source": []
  },
  {
   "cell_type": "markdown",
   "id": "2359b108",
   "metadata": {},
   "source": [
    "**Q.3.4:** Close the file."
   ]
  },
  {
   "cell_type": "code",
   "execution_count": null,
   "id": "df8e88fe",
   "metadata": {},
   "outputs": [],
   "source": []
  },
  {
   "cell_type": "markdown",
   "id": "56452a25",
   "metadata": {},
   "source": [
    "**Q3.5:** Open a new file for writing.\n",
    "\n",
    "**Q3.6:** Write the following string to the file."
   ]
  },
  {
   "cell_type": "code",
   "execution_count": 3,
   "id": "4c585da9",
   "metadata": {},
   "outputs": [],
   "source": [
    "test_string = \"This is a test string, it has no purpose except for testing.\""
   ]
  },
  {
   "cell_type": "markdown",
   "id": "70a8899a",
   "metadata": {},
   "source": [
    "**Q3.7:** Open the the original text file you created again, only this time, open it for appending.\n",
    "\n",
    "**Q3.8:** Add each string from the list below to the file as a separate line."
   ]
  },
  {
   "cell_type": "code",
   "execution_count": 4,
   "id": "f4376743",
   "metadata": {},
   "outputs": [],
   "source": [
    "test_string_list = [\"Test string line 1\", \"Test string line 2\", \"Test string line 3\"]"
   ]
  },
  {
   "cell_type": "code",
   "execution_count": null,
   "id": "59aa43a7",
   "metadata": {},
   "outputs": [],
   "source": []
  }
 ],
 "metadata": {
  "kernelspec": {
   "display_name": "Python 3 (ipykernel)",
   "language": "python",
   "name": "python3"
  },
  "language_info": {
   "codemirror_mode": {
    "name": "ipython",
    "version": 3
   },
   "file_extension": ".py",
   "mimetype": "text/x-python",
   "name": "python",
   "nbconvert_exporter": "python",
   "pygments_lexer": "ipython3",
   "version": "3.10.9"
  }
 },
 "nbformat": 4,
 "nbformat_minor": 5
}
