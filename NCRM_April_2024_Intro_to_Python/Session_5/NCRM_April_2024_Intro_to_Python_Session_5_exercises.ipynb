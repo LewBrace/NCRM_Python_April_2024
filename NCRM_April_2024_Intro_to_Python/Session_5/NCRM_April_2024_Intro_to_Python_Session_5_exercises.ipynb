{
 "cells": [
  {
   "cell_type": "markdown",
   "id": "bbfd73ae",
   "metadata": {},
   "source": [
    "## Exercise 1\n",
    "\n",
    "In the code box below:\n",
    "\n",
    "**Q1.1:** Import NumPy.\n",
    "\n",
    "**Q1.2:** Create a list of integers and convert it in an array.\n",
    "\n",
    "**Q1.3** Check the type of your array object, make sure it is an array.\n",
    "\n",
    "**Q1.4:** Multiple all of the values in your array by 5."
   ]
  },
  {
   "cell_type": "code",
   "execution_count": null,
   "id": "79771ca9",
   "metadata": {},
   "outputs": [],
   "source": []
  },
  {
   "cell_type": "markdown",
   "id": "7b296580",
   "metadata": {},
   "source": [
    "**Q1.5:** Convert the list in the code box below into an array.\n",
    "\n",
    "**Q1.6:** get the shape of the array. What do you see?\n",
    "\n",
    "**Q1.7:** Get the size of the array? Hoe does this differ from the shape?\n",
    "\n",
    "**Q1.8:** What are the dimensions of the array?"
   ]
  },
  {
   "cell_type": "code",
   "execution_count": null,
   "id": "1c9308e9",
   "metadata": {},
   "outputs": [],
   "source": []
  },
  {
   "cell_type": "markdown",
   "id": "edbb03ef",
   "metadata": {},
   "source": [
    "## Exercise 2\n",
    "\n",
    "**Q2.1:** Convert the list in the code box below into an array.\n",
    "\n",
    "**2.2:**  Extract the first 4 items of the first 3 rows of the array and assign this to a new variable. "
   ]
  },
  {
   "cell_type": "code",
   "execution_count": 1,
   "id": "42d2b3ec",
   "metadata": {},
   "outputs": [],
   "source": [
    "current_list = [[9, 5, 6, 4, 2, 3], [2, 6, 7, 8, 9, 6], [5, 8, 5, 6, 5, 5], [9, 8, 7, 5, 4, 6], [4, 2, 3, 4, 9, 8]]"
   ]
  },
  {
   "cell_type": "markdown",
   "id": "bfcfed72",
   "metadata": {},
   "source": [
    "**Q2.3:** Using the original array your created in Q2.1, create a boolean array that reports back true for values > 5."
   ]
  },
  {
   "cell_type": "code",
   "execution_count": null,
   "id": "2646feba",
   "metadata": {},
   "outputs": [],
   "source": []
  },
  {
   "cell_type": "markdown",
   "id": "2b025669",
   "metadata": {},
   "source": [
    "## Exercise 3\n",
    "\n",
    "In the code box below:\n",
    "\n",
    "**Q3.1:** Import pandas.\n",
    "\n",
    "**Q3.2:** Convert the following list into a Pandas series, then get the fourth element and print it to the screen.\n",
    "\n",
    "**Q3.3:** Remind yourself of the difference between a Python list and a Pandas series object."
   ]
  },
  {
   "cell_type": "code",
   "execution_count": 2,
   "id": "ce0afbfa",
   "metadata": {},
   "outputs": [],
   "source": [
    "test_list = [\"Dog\", \"Cat\", \"Rabbit\", \"Hamster\", \"Fish\", \"T-Rex\"]"
   ]
  },
  {
   "cell_type": "markdown",
   "id": "b011a18b",
   "metadata": {},
   "source": [
    "**Q3.4:** Replace the last item in your Pandas series with the string \"Trutle\"."
   ]
  },
  {
   "cell_type": "code",
   "execution_count": null,
   "id": "5cb32d53",
   "metadata": {},
   "outputs": [],
   "source": []
  },
  {
   "cell_type": "markdown",
   "id": "3160a74e",
   "metadata": {},
   "source": [
    "**Q3.5:** Take the following three lists and convert them into a Python dictionary object.\n",
    "\n",
    "**Q3.6:** Convert your dictionary object into a Pandas dataframe."
   ]
  },
  {
   "cell_type": "code",
   "execution_count": 3,
   "id": "88dafc81",
   "metadata": {},
   "outputs": [],
   "source": [
    "country_code = [\"AQ\", \"AU\", \"BM\", \"EG\", \"JP\"]\n",
    "country_name = [\"Antartica\", \"Australia\", \"Bermuda\", \"Egypt\", \"Japan\"]\n",
    "latitude = [-75.250973, -25.274398, 32.321384, 26.820553, 36.204824]\n",
    "longitude = [-0.071389, 133.775136, -64.75737, 30.802498, 138.252924]"
   ]
  },
  {
   "cell_type": "markdown",
   "id": "129c0528",
   "metadata": {},
   "source": [
    "**Q3.7:** Print one column of your choosing to the screen.\n",
    "\n",
    "**Q3.8:** Print the details of a country of your choosing to the screen using the row index."
   ]
  },
  {
   "cell_type": "code",
   "execution_count": null,
   "id": "c85e16ed",
   "metadata": {},
   "outputs": [],
   "source": []
  },
  {
   "cell_type": "markdown",
   "id": "fa378cde",
   "metadata": {},
   "source": [
    "**Q3.9:** Set the country_code colum to be the row index of your dataframe.\n",
    "\n",
    "**Q3.10:** Print the details of a country of your choosing to the screen by using the country_code index you just set.\n",
    "\n",
    "**Q3.11:** Using indexing to print Bermuda's latitude to the screen.\n",
    "\n",
    "**Q3.12:** Using indexing to print Egypt's longitude to the screen."
   ]
  },
  {
   "cell_type": "code",
   "execution_count": null,
   "id": "ba6af417",
   "metadata": {},
   "outputs": [],
   "source": []
  },
  {
   "cell_type": "markdown",
   "id": "80493408",
   "metadata": {},
   "source": [
    "## Exercise 4\n",
    "\n",
    "**Q4.1:** Go to the ELE page for this module, then go to the section for this session, and download the file Countries_data_set.csv. Save this file to a location on your machine that you will remember.\n",
    "\n",
    "**Q4.2:** In the code box below, load this data file in as a Pandas dataframe.\n",
    "\n",
    "**Q4.3::** Print the names of all the variables in your data set to the screen.\n",
    "\n",
    "**Q4.4:** From the data set, pick a column and print it to the screen.\n",
    "\n",
    "**Q4.5:** print the top 3 rows of data to the screen."
   ]
  },
  {
   "cell_type": "code",
   "execution_count": null,
   "id": "e4f0dfc6",
   "metadata": {},
   "outputs": [],
   "source": []
  }
 ],
 "metadata": {
  "kernelspec": {
   "display_name": "Python 3 (ipykernel)",
   "language": "python",
   "name": "python3"
  },
  "language_info": {
   "codemirror_mode": {
    "name": "ipython",
    "version": 3
   },
   "file_extension": ".py",
   "mimetype": "text/x-python",
   "name": "python",
   "nbconvert_exporter": "python",
   "pygments_lexer": "ipython3",
   "version": "3.10.9"
  }
 },
 "nbformat": 4,
 "nbformat_minor": 5
}
